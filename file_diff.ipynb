{
 "cells": [
  {
   "cell_type": "code",
   "execution_count": 1,
   "metadata": {},
   "outputs": [],
   "source": [
    "IDENTICAL = -1\n",
    "def singleline_diff(str1, str2):\n",
    "    if len(str1) < len(str2):\n",
    "        min = len(str1)\n",
    "    else:\n",
    "        min = len(str2)\n",
    "\n",
    "    for index in range(min):\n",
    "        if str1[index] != str2[index]:\n",
    "            return index\n",
    "    if len(str1) != len(str2):\n",
    "        return min\n",
    "    return IDENTICAL"
   ]
  },
  {
   "cell_type": "code",
   "execution_count": 2,
   "metadata": {},
   "outputs": [],
   "source": [
    "def singleline_diff_format(line1, line2, idx):\n",
    "    if idx != -1:\n",
    "        b = \"=\"*idx + \"^\"\n",
    "    elif idx == -1:\n",
    "        b = \"=\"*len(str1)\n",
    "    return (str1+\"\\n\"+b+\"\\n\"+str2)"
   ]
  },
  {
   "cell_type": "code",
   "execution_count": null,
   "metadata": {},
   "outputs": [],
   "source": [
    "def multiline_diff(lines1, lines2):\n",
    "    if len(lines1) <= len(lines2):\n",
    "        min_len = len(lines1)\n",
    "    else:\n",
    "        min_len = len(lines2)\n",
    "    for index in range(min_len):\n",
    "        line1 = lines1[index]\n",
    "        line2 = lines2[index]\n",
    "        diff = singleline_diff(line1, line2)\n",
    "        if diff >= 0:\n",
    "            return (index, diff)\n",
    "    if len(lines1) != len(lines2):\n",
    "        return (min_len, 0)\n",
    "    return (IDENTICAL, IDENTICAL)"
   ]
  },
  {
   "cell_type": "code",
   "execution_count": 5,
   "metadata": {},
   "outputs": [],
   "source": [
    "def get_file_lines(filename):\n",
    "    lst = []\n",
    "    handle = open(filename)\n",
    "    for line in handle:\n",
    "        lst.append(line.strip())\n",
    "    handle.close()\n",
    "    return lst"
   ]
  },
  {
   "cell_type": "code",
   "execution_count": 7,
   "metadata": {},
   "outputs": [],
   "source": [
    "def file_diff_format(file1, file2):\n",
    "    list1 = get_file_lines(file1)\n",
    "    list2 = get_file_lines(file2)\n",
    "    tuple = multiline_diff(list1, list2)\n",
    "    if tuple[1] == 0:\n",
    "        if singleline_diff(list1[tuple[0]-1], list2[tuple[0]-1]) != -1:\n",
    "            return  (singleline_diff_format(list1[tuple[0]-1], list2[tuple[0] - 1], min(len(list1[tuple[0]-1]), len(list1[tuple[0]-1]))))\n",
    "        else:\n",
    "            return (singleline_diff_format(list1[tuple[0]], list2[tuple[0]], tuple[1]))"
   ]
  }
 ],
 "metadata": {
  "kernelspec": {
   "display_name": "Python 3",
   "language": "python",
   "name": "python3"
  },
  "language_info": {
   "codemirror_mode": {
    "name": "ipython",
    "version": 3
   },
   "file_extension": ".py",
   "mimetype": "text/x-python",
   "name": "python",
   "nbconvert_exporter": "python",
   "pygments_lexer": "ipython3",
   "version": "3.7.6"
  }
 },
 "nbformat": 4,
 "nbformat_minor": 4
}
